{
 "cells": [
  {
   "cell_type": "markdown",
   "metadata": {},
   "source": [
    "# ASIF BUX "
   ]
  },
  {
   "cell_type": "markdown",
   "metadata": {},
   "source": [
    "# ENSF 592 Programming Fundamentals for Data Engineers - FINAL EXAM"
   ]
  },
  {
   "cell_type": "markdown",
   "metadata": {},
   "source": [
    "## Question 1: Functions (5pts)\n",
    "\n",
    "For large numbers, the natural logrithm `ln()`, logarithm to base e, can be approximated by multiplying the number of digits by 2.3. For example, ln(7654321) is approximately 7 * 2.3 = 16.1.\n",
    "\n",
    "Write a function: `ln_approx()` that takes a number as argument and retuns the approximate value of the logarithm as explained above. The function should handle both `int` and `float` arguments, and truncate floats prior to counting the digits. Other types, such as `str` do not need to be handeled, i.e. you can assume that the caller takes care of providing either `int` or `float` arguments.\n",
    "\n",
    "With this function, write a program that computes approximate and actual natural logarithms for 5 large numbers of your choice, testing both int and float, and prints results side by side for comparison. Actual logarithms are available in the `math` module, see `math.log()`."
   ]
  },
  {
   "cell_type": "code",
   "execution_count": 43,
   "metadata": {},
   "outputs": [
    {
     "name": "stdout",
     "output_type": "stream",
     "text": [
      "First Number: 7654321\n",
      "Size:  7\n",
      "Value from ln_approx:  16.1\n",
      "Value from math.log:  15.9 \n",
      "\n",
      "Second Number: 7654321.123\n",
      "Size:  7\n",
      "Value from ln_approx:  16.1\n",
      "Value from math.log:  15.9 \n",
      "\n",
      "Thrid Number: 2231323123123.99543545345345\n",
      "Size:  13\n",
      "Value from ln_approx:  29.9\n",
      "Value from math.log:  28.4 \n",
      "\n",
      "Fourth Number: 23432423423\n",
      "Size:  11\n",
      "Value from ln_approx:  25.3\n",
      "Value from math.log:  23.9 \n",
      "\n",
      "Fifth Number: 1000\n",
      "Size:  4\n",
      "Value from ln_approx:  9.2\n",
      "Value from math.log:  6.9 \n",
      "\n"
     ]
    }
   ],
   "source": [
    "import math \n",
    "def ln_approx(number):\n",
    "    # First step is to check if the number is either int or float\n",
    "    if(type(number) != int): # if it is not int then lets truncate it to whole number without any decimals \n",
    "        number = int(number) \n",
    "        #print(number)\n",
    "    # One easy and quick way to get the number of digits is to convert the integer value to string and get the length\n",
    "    size = len(str(number)) \n",
    "    print('Size: ' , size)\n",
    "    approx = round(size * 2.3, 2)\n",
    "    return approx\n",
    "\n",
    "def print_comparsion(number):\n",
    "    print('Value from ln_approx: ', ln_approx(number))\n",
    "    print('Value from math.log: ', round(math.log(number), 1), '\\n')  \n",
    "\n",
    "print('First Number: 7654321') \n",
    "print_comparsion(7654321)\n",
    "\n",
    "print('Second Number: 7654321.123')\n",
    "print_comparsion(7654321.123)\n",
    "\n",
    "print('Thrid Number: 2231323123123.99543545345345')\n",
    "print_comparsion(2231323123123.99543545345345)\n",
    "\n",
    "print('Fourth Number: 23432423423')\n",
    "print_comparsion(23432423423)\n",
    "\n",
    "print('Fifth Number: 1000')\n",
    "print_comparsion(1000)\n",
    "    "
   ]
  },
  {
   "cell_type": "markdown",
   "metadata": {},
   "source": [
    "## Question 2: Random (5pts)\n",
    "Ludo is a board game where players race their tokens to the finish line by rolling a six-sided die and advancing as many steps as the number on the die shows:  \n",
    "https://en.wikipedia.org/wiki/Ludo_(board_game)\n",
    "\n",
    "There are 57 steps to take for a token. We wonder how many rolls of dice are necessary on average to complete these 57 steps with one token? \n",
    "\n",
    "Write a program that simulates 1000 games, where for each game, a single six-sided die is rolled until the sum of the rolls reaches or exceeds 57 and the number of rolls are counted. The program prints the average number of rolls of the 1000 games.\n",
    "\n",
    "Note that the expected sum of n rolls is 3.5n. Therefore, the average obtained by the simulation should be close to 16.3 rolls."
   ]
  },
  {
   "cell_type": "code",
   "execution_count": 44,
   "metadata": {},
   "outputs": [
    {
     "name": "stdout",
     "output_type": "stream",
     "text": [
      "Average: 16.996\n"
     ]
    }
   ],
   "source": [
    "np.random.seed()\n",
    "l = []\n",
    "for i in range(1000):\n",
    "    rolls = 0\n",
    "    counter = 0\n",
    "    while(rolls <= 57):\n",
    "        dice = np.random.randint(1,7)\n",
    "        rolls += dice # add this to rolls and rolls goes up as we countine playing the game until one round is won = 57\n",
    "        counter += 1\n",
    "    l.append(counter)\n",
    "print('Average:', sum(l)/len(l))"
   ]
  },
  {
   "cell_type": "markdown",
   "metadata": {},
   "source": [
    "## Question 3: Files and strings (8pts)\n",
    "In the file `email.txt` the content of an email are saved. Write a program that will read the contents of this file, builds a dictionary with the following keys: **from**, **to**, **date**, **subject**, and **body**. The values in the dictionary are the corresponding contents of the email for each key. Finally, the program saves this dictionary in json format to a file `email.json`.\n",
    "\n"
   ]
  },
  {
   "cell_type": "code",
   "execution_count": 45,
   "metadata": {},
   "outputs": [
    {
     "name": "stdout",
     "output_type": "stream",
     "text": [
      "Action Completed! Please check your folder for email.json file\n"
     ]
    }
   ],
   "source": [
    "import os.path \n",
    "from os import path\n",
    "import re \n",
    "import json \n",
    "\n",
    "filename = 'email.txt'\n",
    "try:\n",
    "    newFileName = filename.split('.')[0] + \".json\"\n",
    "    aDict = {}\n",
    "    with open(filename,'r') as fin:\n",
    "        body= ''\n",
    "        recording = False\n",
    "        for line in fin:\n",
    "            counter +=1\n",
    "            if line.startswith(r'From:'): \n",
    "                aDict['from'] = line.split('From:')[1].strip()\n",
    "            if recording:\n",
    "                body += line + ''\n",
    "            if line.startswith(r'To:'):\n",
    "                aDict['to'] = line.split('To:')[1].strip()\n",
    "                recording = True\n",
    "            if line.startswith(r'Date:'):\n",
    "                aDict['date'] = line.split('Date:')[1].strip()\n",
    "            if line.startswith(r'Subject:'):\n",
    "                aDict['subject'] = line.split('Subject:')[1].strip() \n",
    "        aDict['body'] = body.strip() # this program preserves the lines in between the body in the dictionary value field\n",
    "        #print(aDict)\n",
    "    with open(newFileName, 'w') as outfile:\n",
    "        json.dump(aDict, outfile) \n",
    "    print('Action Completed! Please check your folder for', newFileName, 'file') \n",
    "except:\n",
    "    print('Something went wrong.')"
   ]
  },
  {
   "cell_type": "markdown",
   "metadata": {},
   "source": [
    "## Question 4: Classes (5pts)\n",
    "Create a class named Citrus which has:\n",
    "- a `circumference` data variable which is a float (outer (un-peeled) circumference in cm)\n",
    "- and two class variables: `taste` that can be 'sweet', 'sour' or 'bitter', `peel_thickness` which is a float (thickness of the peel in cm).\n",
    "\n",
    "Create two classes named Orange and Lemon . These must be sub-classes of the Citrus\n",
    "class.\n",
    "\n",
    "Implement a `get_peeled_volume()` method in the parent class that uses the instance's circumference and the class' peel thickness to calculate the volume of the fruit assuming the shape is spherical.\n",
    "\n",
    "Use 0.7 and 0.3 for peel_thickness and 'sweet' and 'sour' for taste of Orange and Lemon,\n",
    "respectively. \n",
    "\n",
    "The fruit's circumference is an input given per instance, when first created. For example, \n",
    "```\n",
    "print(round(Orange(12).get_peeled_volume(), 2))\n",
    "```\n",
    "should print 7.42, and\n",
    "```\n",
    "print(round(Lemon(12).get_peeled_volume(), 2))\n",
    "```\n",
    "should print 17.48.\n",
    "\n",
    "Include these two print statements to confirm proper implementation of Orange and Lemon classes.\n",
    "\n",
    "The volume `V` of a sphere with radius `r` is given by:\n",
    "$$\n",
    "V = \\frac{4}{3}\\cdot \\pi \\cdot r^3\n",
    "$$\n",
    "\n",
    "The circumference `c` of a sphere with radius `r` is given by:\n",
    "$$\n",
    "c = 2\\pi\\cdot r\n",
    "$$\n",
    "\n",
    "Note that the peeled radius needed for calculating the peeled volume is `r-peel_thickness`."
   ]
  },
  {
   "cell_type": "code",
   "execution_count": 46,
   "metadata": {},
   "outputs": [
    {
     "name": "stdout",
     "output_type": "stream",
     "text": [
      "Orange 7.42\n",
      "Lemon 17.48\n"
     ]
    }
   ],
   "source": [
    "import math \n",
    "\n",
    "class Citrus:\n",
    "    taste = 'TBD'\n",
    "    peel_thicknes = 0.0\n",
    "    \n",
    "    def __init__(self, circumference):\n",
    "        self.circumference = circumference\n",
    "    \n",
    "    def get_peeled_volume(self):\n",
    "        r = (self.circumference/(2* math.pi))-self.peel_thicknes\n",
    "        return ((4/3) * math.pi *(r**3)) \n",
    "\n",
    "class Orange(Citrus):\n",
    "    taste = 'sweet'\n",
    "    peel_thicknes= 0.7\n",
    "    # using polymorphism\n",
    "    \n",
    "class Lemon(Citrus):\n",
    "    taste = 'sour'\n",
    "    peel_thicknes= 0.3 \n",
    "    # using polymorphism\n",
    "\n",
    "print('Orange', round(Orange(12).get_peeled_volume(), 2))\n",
    "print('Lemon', round(Lemon(12).get_peeled_volume(), 2))"
   ]
  },
  {
   "cell_type": "markdown",
   "metadata": {},
   "source": [
    "## Question 5: Scraping (6pts)\n",
    "\n",
    "Using `BeautifulSoup` and `requests`, get the Picture of the Day's **image url** and **name**, from NASA Astronomy Picture of the Day webpage for September 15, 2017, the link below:\n",
    "\n",
    "https://apod.nasa.gov/apod/ap170915.html\n",
    "\n",
    "The name to extract is `100 Steps Forward` and the URL is https://apod.nasa.gov/apod/image/1709/ConjuncionViaLacteaHumanoVenusLuna_Jaramillo.jpg"
   ]
  },
  {
   "cell_type": "code",
   "execution_count": 47,
   "metadata": {},
   "outputs": [
    {
     "name": "stdout",
     "output_type": "stream",
     "text": [
      "Extracted URL: image/1709/ConjuncionViaLacteaHumanoVenusLuna_Jaramillo.jpg\n",
      "Complete URL: https://apod.nasa.gov/apod/image/1709/ConjuncionViaLacteaHumanoVenusLuna_Jaramillo.jpg\n",
      "Picture of The Day: 100 Steps Forward\n"
     ]
    }
   ],
   "source": [
    "#Required modules\n",
    "from bs4 import BeautifulSoup\n",
    "import requests\n",
    "import pandas as pd\n",
    "import numpy as np\n",
    "import re\n",
    "\n",
    "#Step 1: Get the URL\n",
    "url = 'https://apod.nasa.gov/apod/ap170915.html'\n",
    "\n",
    "# Step 2: Fire a request at the URL and store the response\n",
    "response = requests.get(url)\n",
    "\n",
    "#Step 3: Create a BeautifulSoup object\n",
    "soup = BeautifulSoup(response.text,'lxml')\n",
    "#print(soup.prettify())\n",
    "\n",
    "#Step 4: Find the required items \n",
    "\n",
    "extracted_URL = soup.find('center').find_all('a')[1]['href'] \n",
    "# Since the url is in the first center, we will use find and get to the first match after that we \n",
    "#have to a tags and we can do find all on the a tags, then we extract the second ones 'href' \n",
    "complete_URL = 'https://apod.nasa.gov/apod/' + extracted_URL\n",
    "print('Extracted URL:' , extracted_URL)\n",
    "print('Complete URL:', complete_URL)\n",
    "# Since the name is loctaed on the second center tag, I used find_all then we run into multiple b tags, \n",
    "#but since we needed the very first one, I just did find ('b') followed by text and strip() \n",
    "extracted_Name = soup.find_all('center')[1].find('b').text .strip()\n",
    "print('Picture of The Day:',extracted_Name)"
   ]
  },
  {
   "cell_type": "markdown",
   "metadata": {},
   "source": [
    "## Question 6: Data (6pts)\n",
    "Read the CFL games data (cfl_data.csv) input file with pandas and do the following:\n",
    "1. Remove all rows with missing data.\n",
    "2. Remove all rows from pre-season games\n",
    "3. Create a new column `TotalPts` containing the sum of `HomePts` and `AwayPts`\n",
    "4. Print the average `TotalPts` per week using Pandas groupby, sorted by `TotalPts` in descending order.\n",
    "\n"
   ]
  },
  {
   "cell_type": "code",
   "execution_count": 99,
   "metadata": {},
   "outputs": [
    {
     "data": {
      "text/html": [
       "<div>\n",
       "<style scoped>\n",
       "    .dataframe tbody tr th:only-of-type {\n",
       "        vertical-align: middle;\n",
       "    }\n",
       "\n",
       "    .dataframe tbody tr th {\n",
       "        vertical-align: top;\n",
       "    }\n",
       "\n",
       "    .dataframe thead th {\n",
       "        text-align: right;\n",
       "    }\n",
       "</style>\n",
       "<table border=\"1\" class=\"dataframe\">\n",
       "  <thead>\n",
       "    <tr style=\"text-align: right;\">\n",
       "      <th></th>\n",
       "      <th>AwayPts</th>\n",
       "      <th>HomePts</th>\n",
       "      <th>Attendance</th>\n",
       "      <th>TotalPts</th>\n",
       "    </tr>\n",
       "    <tr>\n",
       "      <th>Week</th>\n",
       "      <th></th>\n",
       "      <th></th>\n",
       "      <th></th>\n",
       "      <th></th>\n",
       "    </tr>\n",
       "  </thead>\n",
       "  <tbody>\n",
       "    <tr>\n",
       "      <td>1</td>\n",
       "      <td>35.75</td>\n",
       "      <td>33.50</td>\n",
       "      <td>31461.50</td>\n",
       "      <td>69.25</td>\n",
       "    </tr>\n",
       "    <tr>\n",
       "      <td>10</td>\n",
       "      <td>26.25</td>\n",
       "      <td>30.75</td>\n",
       "      <td>31638.50</td>\n",
       "      <td>57.00</td>\n",
       "    </tr>\n",
       "    <tr>\n",
       "      <td>11</td>\n",
       "      <td>25.25</td>\n",
       "      <td>26.00</td>\n",
       "      <td>26041.50</td>\n",
       "      <td>51.25</td>\n",
       "    </tr>\n",
       "    <tr>\n",
       "      <td>2</td>\n",
       "      <td>21.50</td>\n",
       "      <td>22.75</td>\n",
       "      <td>23824.25</td>\n",
       "      <td>44.25</td>\n",
       "    </tr>\n",
       "    <tr>\n",
       "      <td>3</td>\n",
       "      <td>24.50</td>\n",
       "      <td>17.50</td>\n",
       "      <td>21447.50</td>\n",
       "      <td>42.00</td>\n",
       "    </tr>\n",
       "    <tr>\n",
       "      <td>4</td>\n",
       "      <td>20.75</td>\n",
       "      <td>31.25</td>\n",
       "      <td>30657.50</td>\n",
       "      <td>52.00</td>\n",
       "    </tr>\n",
       "    <tr>\n",
       "      <td>5</td>\n",
       "      <td>27.00</td>\n",
       "      <td>28.50</td>\n",
       "      <td>21913.50</td>\n",
       "      <td>55.50</td>\n",
       "    </tr>\n",
       "    <tr>\n",
       "      <td>6</td>\n",
       "      <td>25.00</td>\n",
       "      <td>28.00</td>\n",
       "      <td>28931.00</td>\n",
       "      <td>53.00</td>\n",
       "    </tr>\n",
       "    <tr>\n",
       "      <td>7</td>\n",
       "      <td>32.50</td>\n",
       "      <td>27.50</td>\n",
       "      <td>28852.50</td>\n",
       "      <td>60.00</td>\n",
       "    </tr>\n",
       "    <tr>\n",
       "      <td>8</td>\n",
       "      <td>28.25</td>\n",
       "      <td>26.00</td>\n",
       "      <td>30475.75</td>\n",
       "      <td>54.25</td>\n",
       "    </tr>\n",
       "    <tr>\n",
       "      <td>9</td>\n",
       "      <td>29.25</td>\n",
       "      <td>29.25</td>\n",
       "      <td>24657.00</td>\n",
       "      <td>58.50</td>\n",
       "    </tr>\n",
       "  </tbody>\n",
       "</table>\n",
       "</div>"
      ],
      "text/plain": [
       "      AwayPts  HomePts  Attendance  TotalPts\n",
       "Week                                        \n",
       "1       35.75    33.50    31461.50     69.25\n",
       "10      26.25    30.75    31638.50     57.00\n",
       "11      25.25    26.00    26041.50     51.25\n",
       "2       21.50    22.75    23824.25     44.25\n",
       "3       24.50    17.50    21447.50     42.00\n",
       "4       20.75    31.25    30657.50     52.00\n",
       "5       27.00    28.50    21913.50     55.50\n",
       "6       25.00    28.00    28931.00     53.00\n",
       "7       32.50    27.50    28852.50     60.00\n",
       "8       28.25    26.00    30475.75     54.25\n",
       "9       29.25    29.25    24657.00     58.50"
      ]
     },
     "metadata": {},
     "output_type": "display_data"
    },
    {
     "data": {
      "text/plain": [
       "Week\n",
       "1     69.25\n",
       "7     60.00\n",
       "9     58.50\n",
       "10    57.00\n",
       "5     55.50\n",
       "8     54.25\n",
       "6     53.00\n",
       "4     52.00\n",
       "11    51.25\n",
       "2     44.25\n",
       "3     42.00\n",
       "Name: TotalPts, dtype: float64"
      ]
     },
     "execution_count": 99,
     "metadata": {},
     "output_type": "execute_result"
    }
   ],
   "source": [
    "import numpy as np \n",
    "import pandas as pd \n",
    "\n",
    "df = pd.read_csv(\"cfl_data.csv\")\n",
    "\n",
    "#Steop 1: Drop rows with missing data \n",
    "df = df.dropna()\n",
    "\n",
    "#Step 2: Remove all rows from pre-season games \n",
    "df.drop(df.index[df['Week'] == ' Pre-Season A'], inplace = True)\n",
    "df.drop(df.index[df['Week'] == ' Pre-Season B'], inplace = True)\n",
    "\n",
    "#Step 3: Create a new column TotalPts containing the sum of HomePts and AwayPts\n",
    "df['TotalPts'] = df['HomePts'] +df['AwayPts']\n",
    "\n",
    "#Step 4: Print the average TotalPts per week using Pandas groupby, sorted by TotalPts in descending order.\n",
    "groupeddf = df.groupby('Week').mean() \n",
    "display(groupeddf) \n",
    "groupeddf['TotalPts'].sort_values(ascending= False)"
   ]
  },
  {
   "cell_type": "markdown",
   "metadata": {},
   "source": [
    "## Question 7: Visualization (5pts)\n",
    "Using the DataFrame prepared in Question 6, choose a plot to show progression of points as the season unfolds. Plot average `TotalPts`, `HomePts`, and `AwayPts` for each `Week` from week 1 to week 11 in a line-plot for example. Label your plot components."
   ]
  },
  {
   "cell_type": "code",
   "execution_count": 105,
   "metadata": {},
   "outputs": [
    {
     "name": "stdout",
     "output_type": "stream",
     "text": [
      "Date            object\n",
      "Week             int64\n",
      "AwayTeam        object\n",
      "AwayPts          int64\n",
      "HomeTeam        object\n",
      "HomePts          int64\n",
      "KickOffTime     object\n",
      "Attendance     float64\n",
      "Winner          object\n",
      "TotalPts         int64\n",
      "dtype: object\n",
      "Date            object\n",
      "Week             int64\n",
      "AwayTeam        object\n",
      "AwayPts          int64\n",
      "HomeTeam        object\n",
      "HomePts          int64\n",
      "KickOffTime     object\n",
      "Attendance     float64\n",
      "Winner          object\n",
      "TotalPts         int64\n",
      "dtype: object\n"
     ]
    },
    {
     "data": {
      "image/png": "[encoded data removed]",
      "text/plain": [
       "<Figure size 576x360 with 1 Axes>"
      ]
     },
     "metadata": {
      "needs_background": "light"
     },
     "output_type": "display_data"
    }
   ],
   "source": [
    "import matplotlib.pyplot as plt\n",
    "# The datatype in Week coloumn is object type, so we need to make it numeric type in order to plot by Week 1 to Week 11\n",
    "print(df.dtypes)\n",
    "df['Week'] = pd.to_numeric(df['Week'])\n",
    "print(df.dtypes)\n",
    "groupeddf = df.groupby('Week').mean()\n",
    "groupeddf.unstack('Week')['TotalPts'].plot(marker = 'o',label = 'TotalPts', figsize=(8,5))\n",
    "groupeddf.unstack('Week')['HomePts'].plot(marker = 'o', label='HomePts')\n",
    "groupeddf.unstack('Week')['AwayPts'].plot(marker = 'o', label='AwayPts'); \n",
    "plt.xlabel('Week') \n",
    "plt.ylabel('Points') \n",
    "plt.title('Average Points vs Week')\n",
    "plt.legend();"
   ]
  },
  {
   "cell_type": "code",
   "execution_count": null,
   "metadata": {},
   "outputs": [],
   "source": []
  }
 ],
 "metadata": {
  "@webio": {
   "lastCommId": null,
   "lastKernelId": null
  },
  "kernelspec": {
   "display_name": "Python 3",
   "language": "python",
   "name": "python3"
  },
  "language_info": {
   "codemirror_mode": {
    "name": "ipython",
    "version": 3
   },
   "file_extension": ".py",
   "mimetype": "text/x-python",
   "name": "python",
   "nbconvert_exporter": "python",
   "pygments_lexer": "ipython3",
   "version": "3.7.4"
  },
  "varInspector": {
   "cols": {
    "lenName": 16,
    "lenType": 16,
    "lenVar": 40
   },
   "kernels_config": {
    "python": {
     "delete_cmd_postfix": "",
     "delete_cmd_prefix": "del ",
     "library": "var_list.py",
     "varRefreshCmd": "print(var_dic_list())"
    },
    "r": {
     "delete_cmd_postfix": ") ",
     "delete_cmd_prefix": "rm(",
     "library": "var_list.r",
     "varRefreshCmd": "cat(var_dic_list()) "
    }
   },
   "types_to_exclude": [
    "module",
    "function",
    "builtin_function_or_method",
    "instance",
    "_Feature"
   ],
   "window_display": false
  }
 },
 "nbformat": 4,
 "nbformat_minor": 2
}
