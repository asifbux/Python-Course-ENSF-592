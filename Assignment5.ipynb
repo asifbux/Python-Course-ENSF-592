{
 "cells": [
  {
   "cell_type": "markdown",
   "metadata": {},
   "source": [
    "#### <h1> <center> ENSF 592 Programming Fundamentals for Data Engineers </center></h1>\n",
    "<h2> <center> Assignment 5: Numpy (5 points)</center></h2>\n",
    "\n",
    "<center>\n",
    "<div class=\"alert alert-block alert-info\">\n",
    "Due: Wed Oct 30 12am (midnight, Tue to Wed). To be submitted on D2L.\n",
    "</div></center>\n"
   ]
  },
  {
   "cell_type": "markdown",
   "metadata": {},
   "source": [
    "Edit this file and write your solutions to the problems in sections specified with `# Your solution goes here`. Test your code and when you are ready, download this notebook as an `.ipynb` file and submit it to D2L. To get this file, in Jupyter notebook you can go to File -> Download as -> Notebook(.ipynb)"
   ]
  },
  {
   "cell_type": "markdown",
   "metadata": {},
   "source": [
    "# Introduction\n",
    "\n",
    "### Before You start: \n",
    "* Numpy is already installed with the Anaconda stack. You can check with:<br> \n",
    "    `import numpy as np\n",
    "    np.__version__`\n",
    "\n",
    "* Download data.csv and put it somewhere in your repository to be accessible in you code (for ease of access put it in the same directory of you notebook file)"
   ]
  },
  {
   "cell_type": "markdown",
   "metadata": {},
   "source": [
    "<div class=\"alert alert-block alert-info\">\n",
    "<b>Tip:</b> Use `np?` or `np.info(np.<function-to-look-up>)` to read numpy documentation.\n",
    "</div>"
   ]
  },
  {
   "cell_type": "markdown",
   "metadata": {},
   "source": [
    "\n",
    "### Description:\n",
    "We are going to study data collected from 293 patients with heart disease, and extract some meaningfull information. You can download the dataset (data.csv) from d2l and if you want to know more about it, you can use the below Kaggle link:<br>\n",
    "https://www.kaggle.com/imnikhilanand/heart-attack-prediction\n",
    "\n"
   ]
  },
  {
   "cell_type": "markdown",
   "metadata": {},
   "source": [
    "|Feature|Description|\n",
    "|-------|----------------------------|\n",
    "|age|age in years|\n",
    "|gender|(1 = male; 0 = female)|\n",
    "|cp|chest pain type|\n",
    "|trestbps|resting blood pressure (in mm Hg on admission to the hospital)|\n",
    "|chol|serum cholestoral in mg/dl|\n",
    "|fbs|(fasting blood sugar > 120 mg/dl) (1 = true; 0 = false)|\n",
    "|restecg|resting electrocardiographic results|\n",
    "|thalach|maximum heart rate achieved|\n",
    "|exang|exercise induced angina (1 = yes; 0 = no)|\n",
    "|oldpeak|ST depression induced by exercise relative to rest|\n",
    "|slope|the slope of the peak exercise ST segment|\n",
    "|ca|number of major vessels (0-3) colored by flourosopy|\n",
    "|thal|3 = normal; 6 = fixed defect; 7 = reversable defect|\n",
    "|num|diagnosis of heart disease (angiographic disease status)|"
   ]
  },
  {
   "cell_type": "markdown",
   "metadata": {},
   "source": [
    "# 1. Numpy Table (5 pts)\n",
    "### Part I. Table (3 pts)\n",
    "In Part II we would like to find answers to the following questions:\n",
    "* Report1: what is the average age of patients ? \n",
    "* Report2: report the average `chol` level of people in intervals of 10 years old ([20,30], [30,40],[40,50],[50,60])\n",
    "* Report3: report the average `trestbps` in people with `chol` of highest level(the highest 30%) and lowest level(the lowest 30%).\n",
    "* Report4: report percentage of men and women with positive diagnosis of heart disease(`num=1`). \n",
    "\n",
    "\n",
    "As a first step, design a class that is responsible for general processes that you'll need.\n",
    "* Keep header names in a python list, and store the the data rows in a numpy.ndarray as data attributes\n",
    "* Implement a `readCSV` method which is responsible for reading header and data from a csv file.\n",
    "* Implement a `printHead` method that print the header and first 10 rows of the table.\n",
    "* Implement a `sort` method that sort the table based on the specified `column`. (`default='age'`)\n",
    "* Implement a `deleteRow` method that gets a `row index` and deletes that row from the table. (`default=last row`) \n",
    "* Implement a `deleteCol` method that gets a `column index` and deletes that column from the table. (`default=last column`)\n",
    "* Implement a `getColumn` method that gets a `column` name and after removing `nan` values from it, returns it as a numpy array. \n",
    "* Implement a `select` method that gets a `column` name and a `value`, and after removing `nan` values, searches for records with `column=value` and returns that sub-table. \n",
    "* Implement a `rangeSelect` method that gets a `column` name and a `begin` and `end` (that define a range), and after removing `nan` values and sorting the table based on `column`, searchs for records with `begin<column<end` and returns that sub-table.\n",
    "* Implement a `percentageSelect` method that gets a `column` name, a `perc`(percentage) and `index`, and after removing `nan` values and sorting the table based on `column` from that column: \n",
    "    * if index ==0 : returns the __first__ `perc*column.size` sub-table.  \n",
    "    * if index ==-1 : returns the __last__ `perc*column.size` sub-table. "
   ]
  },
  {
   "cell_type": "markdown",
   "metadata": {},
   "source": [
    "<div class=\"alert alert-block alert-danger\">\n",
    "<b>Note:</b> <br>\n",
    "Do not change the signature of methods and complete the same class structure as below<br>\n",
    "`select`, `rangeSelect` and `percentageSelect` should return a new `Table` as their output without changing the current Table.<br>\n",
    "To remove `nan` values and sort, you must reuse the `getColumn` and `sort` methods that you have implemented before.\n",
    "</div>"
   ]
  },
  {
   "cell_type": "code",
   "execution_count": 2,
   "metadata": {},
   "outputs": [],
   "source": [
    "import numpy as np\n",
    "\n",
    "class Table:\n",
    "    \n",
    "    def __init__(self,header=[],data=np.array([])):\n",
    "        self.header = header\n",
    "        self.data = data\n",
    "            \n",
    "    def readCSV(self,filename:str)->None:\n",
    "        # skip first row\n",
    "        self.data = np.genfromtxt(filename, delimiter=',',names=True,dtype=float)\n",
    "        self.header = list(self.data.dtype.names)\n",
    "\n",
    "    def printHead(self)->None:\n",
    "        print(self.header, '\\n')\n",
    "        print(self.data[:10])\n",
    "\n",
    "    def sort(self,column:str='age')->None:\n",
    "        self.data = np.sort(self.data, order=column)\n",
    "\n",
    "    def deleteRow(self,index:int=-1)->None:\n",
    "        self.data = np.delete(self.data, (index), axis=0)\n",
    "\n",
    "    def deleteCol(self,column:int=-1)->None:\n",
    "        self.header = self.header[:column] + self.header[column +1:]\n",
    "        self.data = self.data[self.header]\n",
    "\n",
    "    def getColumn(self,column:str='age')->np.array: \n",
    "        cols = self.data[column]\n",
    "        array = cols[~np.isnan(cols)]\n",
    "        return array\n",
    "\n",
    "    def select(self,column:str,value:float):\n",
    "        array = (self.data[column] == value)\n",
    "        newTable = Table(self.header, self.data[array])\n",
    "        return newTable\n",
    "    \n",
    "    def rangeSelect(self,column:str,begin:int,end:int):\n",
    "        # get the colum arry without \n",
    "        array = self.getColumn(column)\n",
    "        # sorting the colum\n",
    "        self.sort(column)\n",
    "        mask = np.in1d(self.data[column], array)\n",
    "        array = self.data[mask]\n",
    "        return Table(self.header, array[np.logical_and(self.getColumn(column) >= begin, self.getColumn(column) < end)])\n",
    "    \n",
    "    def percentageSelect(self,column:str,perc:float,index:int):\n",
    "        self.sort(column)\n",
    "        array = self.getColumn(column)\n",
    "        mask = np.in1d(self.data[column], array)\n",
    "        array = self.data[mask]\n",
    "        size = int((perc/100)*array.size)\n",
    "        if index == 0:\n",
    "            return Table(self.header, array[:size])\n",
    "        elif index == -1:\n",
    "            return Table(self.header, array[-size:])"
   ]
  },
  {
   "cell_type": "code",
   "execution_count": 5,
   "metadata": {},
   "outputs": [
    {
     "name": "stdout",
     "output_type": "stream",
     "text": [
      "['age', 'gender', 'cp', 'trestbps', 'chol', 'fbs', 'restecg', 'thalach', 'exang', 'oldpeak', 'slope', 'ca', 'thal', 'num'] \n",
      "\n",
      "[(28., 1., 2., 130., 132., 0., 2., 185., 0., 0., nan, nan, nan, 0.)\n",
      " (29., 1., 2., 120., 243., 0., 0., 160., 0., 0., nan, nan, nan, 0.)\n",
      " (29., 1., 2., 140.,  nan, 0., 0., 170., 0., 0., nan, nan, nan, 0.)\n",
      " (30., 0., 1., 170., 237., 0., 1., 170., 0., 0., nan, nan,  6., 0.)\n",
      " (31., 0., 2., 100., 219., 0., 1., 150., 0., 0., nan, nan, nan, 0.)\n",
      " (32., 0., 2., 105., 198., 0., 0., 165., 0., 0., nan, nan, nan, 0.)\n",
      " (32., 1., 2., 110., 225., 0., 0., 184., 0., 0., nan, nan, nan, 0.)\n",
      " (32., 1., 2., 125., 254., 0., 0., 155., 0., 0., nan, nan, nan, 0.)\n",
      " (33., 1., 3., 120., 298., 0., 0., 185., 0., 0., nan, nan, nan, 0.)\n",
      " (34., 0., 2., 130., 161., 0., 0., 190., 0., 0., nan, nan, nan, 0.)]\n",
      "['age', 'gender', 'cp', 'trestbps', 'chol', 'fbs', 'restecg', 'thalach', 'exang', 'oldpeak', 'slope', 'ca', 'thal', 'num'] \n",
      "\n",
      "[(36., 1., 3., 112., 340., 0., 0., 184., 0., 1.,  2., nan, 3., 0.)\n",
      " (37., 1., 4., 120., 223., 0., 0., 168., 0., 0., nan, nan, 3., 0.)\n",
      " (43., 0., 3., 150.,  nan, 0., 0., 175., 0., 0., nan, nan, 3., 0.)\n",
      " (46., 1., 4., 110., 238., 0., 1., 140., 1., 1.,  2., nan, 3., 0.)\n",
      " (46., 1., 4., 110., 240., 0., 1., 140., 0., 0., nan, nan, 3., 0.)\n",
      " (50., 1., 2., 140., 216., 0., 0., 170., 0., 0., nan, nan, 3., 0.)\n",
      " (59., 1., 3., 130., 318., 0., 0., 120., 1., 1.,  2., nan, 3., 0.)\n",
      " (30., 0., 1., 170., 237., 0., 1., 170., 0., 0., nan, nan, 6., 0.)\n",
      " (39., 1., 4., 110., 280., 0., 0., 150., 0., 0., nan, nan, 6., 1.)\n",
      " (40., 0., 4., 150., 392., 0., 0., 130., 0., 2.,  2., nan, 6., 1.)]\n"
     ]
    }
   ],
   "source": [
    "Synopsis = Table()\n",
    "Synopsis.readCSV(\"data.csv\")\n",
    "Synopsis.printHead()\n",
    "# Synopsis.sort(column='trestbps')\n",
    "# Synopsis.printHead()\n",
    "# Synopsis.deleteRow(0)\n",
    "# Synopsis.printHead()\n",
    "# Synopsis.deleteCol(2)\n",
    "# Synopsis.printHead()\n",
    "#Synopsis.getColumn('thal')\n",
    "#newTable = Synopsis.select('thal', 3)\n",
    "#newTable.printHead()\n",
    "subTable = Synopsis.rangeSelect('thal',3,7)\n",
    "subTable.printHead()\n",
    "# newTable2 = Synopsis.percentageSelect('chol', 30, -1)\n",
    "# newTable2.printHead()"
   ]
  },
  {
   "cell_type": "markdown",
   "metadata": {},
   "source": [
    "### Part II. Extract Meaning (2 pts)\n",
    "\n",
    "Now that you have a proper infrastructure to handle the data, we would like to answer the following questions:\n",
    "* Report1: what is the average age of patients ? \n",
    "* Report2: report the average `chol` level of people in intervals of 10 years old ([20,30], [30,40],[40,50],[50,60])\n",
    "* Report3: report the average `trestbps` in people with `chol` of highest level(the highest 30%) and lowest level(the lowest 30%).\n",
    "* Report4: report percentage of men and women with positive diagnosis of heart disease(`num=1`). \n",
    "\n",
    "We are expecting the following output:\n",
    "```\n",
    "Report1\n",
    " \tthe average age of patients are:  47.767918088737204\n",
    "\n",
    "Report2\n",
    "\tfor people with age in range of 20 30 average CHOL is:  187.5\n",
    "\tfor people with age in range of 30 40 average CHOL is:  239.6304347826087\n",
    "\tfor people with age in range of 40 50 average CHOL is:  250.13131313131314\n",
    "\tfor people with age in range of 50 60 average CHOL is:  256.2105263157895\n",
    "\n",
    "Report3\n",
    "\tfor patients with lowest 30% of chol, average trestbps is:  132.97530864197532\n",
    "\tfor patients with highest 30% of chol, average trestbps is:  136.05\n",
    "\n",
    "Report4\n",
    "\t88.57% of patients diagnosed with heart decease are men and  11.43% of them are women\n",
    "```\n"
   ]
  },
  {
   "cell_type": "code",
   "execution_count": 232,
   "metadata": {
    "scrolled": true
   },
   "outputs": [
    {
     "name": "stdout",
     "output_type": "stream",
     "text": [
      "Report1\n",
      " \tthe average age of patients are:  47.767918088737204\n",
      "\n",
      "Report2\n",
      "\tfor people with age in range of 20 30 average CHOL is:  187.5\n",
      "\tfor people with age in range of 30 40 average CHOL is:  239.6304347826087\n",
      "\tfor people with age in range of 40 50 average CHOL is:  250.13131313131314\n",
      "\tfor people with age in range of 50 60 average CHOL is:  256.2105263157895\n",
      "\n",
      "Report3\n",
      "\tfor patients with lowest 30% of chol, average trestbps is:  132.97530864197532\n",
      "\tfor patients with highest 30% of chol, average trestbps is:  135.6375\n",
      "\n",
      "Report4\n",
      "\t88.57% of patients diagnosed with heart decease are men and  11.43% of them are women\n"
     ]
    }
   ],
   "source": [
    "# Your Code goes here - complete the code bellow\n",
    "\n",
    "report=Table()\n",
    "report.readCSV(\"data.csv\")\n",
    "\n",
    "# report 1\n",
    "print(\"Report1\\n \\tthe average age of patients are: \",np.nanmean(report.getColumn('age')))\n",
    "\n",
    "# report2\n",
    "print(\"\\nReport2\")\n",
    "for i in range(20,60,10):\n",
    "    age = report.rangeSelect('age', i, i+10)\n",
    "    print(\"\\tfor people with age in range of\", i,i+10, \"average CHOL is: \", np.nanmean(age.getColumn('chol')))\n",
    "\n",
    "# report3\n",
    "print(\"\\nReport3\")\n",
    "lowest = report.percentageSelect('chol', 30, 0)\n",
    "higest = report.percentageSelect('chol', 30, -1)\n",
    "print(\"\\tfor patients with lowest 30% of chol, average trestbps is: \",np.nanmean(lowest.getColumn('trestbps')))\n",
    "print(\"\\tfor patients with highest 30% of chol, average trestbps is: \",np.nanmean(higest.getColumn('trestbps')))\n",
    "\n",
    "# report4\n",
    "print(\"\\nReport4\")\n",
    "positiveDisease = report.select('num', 1)\n",
    "positiveDisease.getColumn('gender')\n",
    "numOfMen = 0\n",
    "numOfWomen = 0\n",
    "for i in positiveDisease.getColumn('gender'):\n",
    "    if i == 0:\n",
    "        numOfWomen += 1\n",
    "    elif i == 1:\n",
    "        numOfMen += 1\n",
    "percNumOfMen = (numOfMen/len(positiveDisease.getColumn('gender')))*100\n",
    "percNumOfWomen = (numOfWomen/len(positiveDisease.getColumn('gender')))*100\n",
    "print(\"\\t{0:.2f}% of patients diagnosed with heart decease are men and \".format(percNumOfMen), \"{0:.2f}% of them are women\".format(percNumOfWomen))"
   ]
  },
  {
   "cell_type": "markdown",
   "metadata": {},
   "source": [
    "# 2. Numpy - remove duplicate rows (optional)\n",
    "\n",
    "If rows contain numerical data, finding duplicates might mean finding rows that are close in a distance sense, rather than exactly the same. Each column would be treated as a dimension, and the multi-dimensional distance lower than a threshold would mean rows are equal.\n",
    "\n",
    "In this stackexchange thread https://stackoverflow.com/questions/16970982/find-unique-rows-in-numpy-array\n",
    "\n",
    "the following solution is presented to implement this:\n",
    "```python\n",
    "from scipy.spatial.distance import squareform, pdist\n",
    "\n",
    "def unique_rows(arr, thresh=0.0, metric='euclidean'):\n",
    "    \"Returns subset of rows that are unique, in terms of Euclidean distance\"\n",
    "    distances = squareform(pdist(arr, metric=metric))\n",
    "    idxset = {tuple(np.nonzero(v)[0]) for v in distances <= thresh}\n",
    "    return arr[[x[0] for x in idxset]]\n",
    "\n",
    "```\n",
    "\n",
    "Study this method by running each step separately and explain. Create test arrays to show that it works as intended. Does it always work?\n"
   ]
  },
  {
   "cell_type": "code",
   "execution_count": null,
   "metadata": {},
   "outputs": [],
   "source": [
    "# Your solution goes here"
   ]
  },
  {
   "cell_type": "markdown",
   "metadata": {},
   "source": [
    "# 3. Statistics for Hackers (optional)\n",
    "\n",
    "Watch Jake Vanderplas' talk Statistics for Hackers - PyCon 2016 https://www.youtube.com/watch?v=Iq9DzN6mvYA\n",
    "\n",
    "Using the described _shuffeling_ technique and the heart attack dataset, investigate if _young_ individuals have lower blood pressure than _old_ individuals and if this is statistically significant. \n",
    "\n",
    "Note that `np.random.shuffle()` can shuffle arrays. For an example see: https://github.com/croach/statistics-for-hackers\n"
   ]
  },
  {
   "cell_type": "code",
   "execution_count": null,
   "metadata": {},
   "outputs": [],
   "source": [
    "# Your solution goes here"
   ]
  }
 ],
 "metadata": {
  "kernelspec": {
   "display_name": "Python 3",
   "language": "python",
   "name": "python3"
  },
  "language_info": {
   "codemirror_mode": {
    "name": "ipython",
    "version": 3
   },
   "file_extension": ".py",
   "mimetype": "text/x-python",
   "name": "python",
   "nbconvert_exporter": "python",
   "pygments_lexer": "ipython3",
   "version": "3.7.4"
  }
 },
 "nbformat": 4,
 "nbformat_minor": 2
}
